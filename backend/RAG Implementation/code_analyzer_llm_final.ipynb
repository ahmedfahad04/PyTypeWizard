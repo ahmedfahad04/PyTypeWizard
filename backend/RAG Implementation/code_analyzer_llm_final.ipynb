{
 "cells": [
  {
   "cell_type": "code",
   "execution_count": 1,
   "metadata": {},
   "outputs": [
    {
     "name": "stdout",
     "output_type": "stream",
     "text": [
      "OK\n"
     ]
    }
   ],
   "source": [
    "print(\"OK\")"
   ]
  },
  {
   "cell_type": "markdown",
   "metadata": {},
   "source": [
    "# Q&A over the Code Base to Understand How it Works"
   ]
  },
  {
   "cell_type": "code",
   "execution_count": 2,
   "metadata": {},
   "outputs": [],
   "source": [
    "from git import Repo\n",
    "import os\n",
    "\n",
    "from langchain.text_splitter import Language\n",
    "from langchain.document_loaders.generic import GenericLoader\n",
    "from langchain.document_loaders.parsers import LanguageParser\n",
    "from langchain.text_splitter import RecursiveCharacterTextSplitter\n",
    "from langchain.embeddings.openai import OpenAIEmbeddings\n",
    "from langchain.vectorstores import Chroma\n",
    "from langchain.chat_models import ChatOpenAI\n",
    "from langchain.memory import ConversationSummaryMemory\n",
    "from langchain.chains import ConversationalRetrievalChain"
   ]
  },
  {
   "cell_type": "code",
   "execution_count": 3,
   "metadata": {},
   "outputs": [
    {
     "data": {
      "text/plain": [
       "'/home/fahad/Documents/Projects/SPL Excessories/SPL3/Code Analyzer LLM/research'"
      ]
     },
     "execution_count": 3,
     "metadata": {},
     "output_type": "execute_result"
    }
   ],
   "source": [
    "%pwd"
   ]
  },
  {
   "cell_type": "code",
   "execution_count": 4,
   "metadata": {},
   "outputs": [],
   "source": [
    "# !mkdir test_repo"
   ]
  },
  {
   "cell_type": "code",
   "execution_count": 5,
   "metadata": {},
   "outputs": [],
   "source": [
    "repo_path = \"test/python-type-hinting-main\"\n",
    "# repo = Repo.clone_from(\"https://github.com/entbappy/End-to-end-Medical-Chatbot-Generative-AI\", to_path=repo_path)"
   ]
  },
  {
   "cell_type": "code",
   "execution_count": 6,
   "metadata": {},
   "outputs": [],
   "source": [
    "loader = GenericLoader.from_filesystem(repo_path,\n",
    "                                       glob = \"**/*\",\n",
    "                                       suffixes=[\".py\"],\n",
    "                                       parser = LanguageParser(language=Language.PYTHON, parser_threshold=500)\n",
    ")"
   ]
  },
  {
   "cell_type": "code",
   "execution_count": 7,
   "metadata": {},
   "outputs": [],
   "source": [
    "documents = loader.load()"
   ]
  },
  {
   "cell_type": "code",
   "execution_count": 8,
   "metadata": {},
   "outputs": [
    {
     "data": {
      "text/plain": [
       "[Document(metadata={'source': 'test/python-type-hinting-main/test.py', 'language': <Language.PYTHON: 'python'>}, page_content='from dataclasses import dataclass\\nfrom typing import TypedDict\\n\\n\\n# Define a TypedDict to explicitly type the car_data dictionary\\nclass CarData(TypedDict):\\n    model: str\\n    year: int\\n    trim_package: str\\n    mass: float\\n    engine_type: str\\n    engine_size: str\\n    engine_location: str\\n    cylinders: int\\n    turbo: bool\\n    unit_price: float\\n    colour: str\\n    wheels: int\\n    seats: int\\n\\n\\nclass EngineAttributes(TypedDict):\\n    engine_type: str\\n    engine_size: str\\n    cylinders: float\\n    turbo: bool\\n    engine_location: str\\n\\n\\n@dataclass\\nclass Car:\\n    \"\"\"Class for a particular car item in inventory.\"\"\"\\n\\n    model: str\\n    year: int\\n    trim_package: str\\n    mass: float\\n    engine_type: str\\n    engine_size: str\\n    engine_location: str\\n    cylinders: int\\n    turbo: bool\\n    unit_price: float\\n    colour: str\\n    wheels: int\\n    seats: int\\n\\n    def get_engine_attributes(self) -> EngineAttributes:\\n        \"\"\"Return a dictionary of engine attributes.\"\"\"\\n\\n        return {\\n            \"engine_type\": self.engine_type,\\n            \"engine_size\": self.engine_size,\\n            \"cylinders\": self.cylinders,\\n            \"turbo\": self.turbo,\\n            \"engine_location\": self.engine_location,\\n        }\\n\\n\\nif __name__ == \"__main__\":\\n    # Now use the typed dictionary CarData for car_data\\n    car_data: CarData = {\\n        \"model\": \"audi\",\\n        \"year\": 2023,\\n        \"trim_package\": \"RS\",\\n        \"mass\": 1100.1,\\n        \"engine_type\": \"Petrol\",\\n        \"engine_size\": \"3L\",\\n        \"engine_location\": \"Rear\",\\n        \"cylinders\": 8,\\n        \"turbo\": True,\\n        \"unit_price\": 40003.0,\\n        \"colour\": \"black\",\\n        \"wheels\": 4,\\n        \"seats\": 4,\\n    }\\n\\n    data_values = list(car_data.values())\\n\\n    car = Car(*data_values)\\n    car.get_engine_attributes()\\n'),\n",
       " Document(metadata={'source': 'test/python-type-hinting-main/examples/a_introduction.py', 'language': <Language.PYTHON: 'python'>}, page_content='# Example of type annotations for simple variables/data structures\\n\\n# We can annotate types outside function definitions\\ncar_models: list[str] = [\"bmw\", \"mercedes\", \"ferrari\"]\\ncar_counts: list[int] = [1, 2, 54]\\ninventory: dict[str, int] = dict(zip(car_models, car_counts))\\n\\ninventory: dict[str, int] = {\\n    \"citroen\": 5,\\n    \"audi\": 5,\\n    \"kia\": 20,\\n}\\n\\naverage_car_prices: dict[str, float] = {\\n    \"citroen\": 2043.54,\\n    \"audi\": 5673.5,\\n    \"kia\": 3265.78,\\n}\\n\\n\\n# We can use type annotations for functions\\ndef count_stock(inventory: dict[str, int]) -> int:\\n    \"\"\"\\n    Function to count cars in inventory.\\n\\n    Args:\\n        inventory: dictionary of inventory\\n\\n    Returns:\\n        stock_count: the number of cars in inventory\\n    \"\"\"\\n\\n    stock_count = sum(inventory.values())\\n\\n    return stock_count\\n\\n\\ndef calculate_stock_value(inventory: dict[str, int], average_car_prices: dict[str, float]) -> float:\\n    \"\"\"\\n    Calculate the (approximate) stock value of inventory with average prices. If no data is present\\n    for a model in stock, the average car price is used instead.\\n\\n    Args:\\n        inventory: dictionary of inventory\\n        average_car_prices: dictionary containing average car prices in GBP\\n\\n    Returns:\\n        stock_value: the approximate stock value in GBP\\n    \"\"\"\\n\\n    average_car_price = sum(average_car_prices.values()) / len(average_car_prices)\\n\\n    total_stock_value = 0\\n    for model_name, stock_count in inventory.items():\\n        if model_name in average_car_prices:\\n            average_model_price = average_car_prices[model_name]\\n            total_stock_value += stock_count * average_model_price\\n\\n        else:\\n            total_stock_value += stock_count * average_car_price\\n\\n    return total_stock_value\\n\\n\\ndef add_to_stock(inventory: dict[str, int], new_car_model: str):\\n    \"\"\"\\n    Adds a new car to the inventory inplace.\\n\\n    Args:\\n        inventory: dictionary of inventory\\n        new_car_model: the model of new car\\n    \"\"\"\\n\\n    if new_car_model in inventory:\\n        inventory[new_car_model] += 1\\n\\n    else:\\n        inventory[new_car_model] = 1\\n\\n\\ndef remove_from_stock(inventory: dict[str, int], car_model_to_remove: str):\\n    \"\"\"\\n    Removes a car from the inventory.\\n\\n    Args:\\n        inventory: dictionary of inventory\\n        car_model_to_remove: the model of car to remove\\n    \"\"\"\\n\\n    if car_model_to_remove not in inventory:\\n        raise ValueError(f\"No cars of model {car_model_to_remove} in inventory.\")\\n\\n    current_stock = inventory[car_model_to_remove]\\n\\n    if current_stock > 1:\\n        inventory[car_model_to_remove] -= 1\\n\\n    else:\\n        del inventory[car_model_to_remove]\\n'),\n",
       " Document(metadata={'source': 'test/python-type-hinting-main/examples/c_dataclasses.py', 'language': <Language.PYTHON: 'python'>}, page_content='from dataclasses import dataclass\\n\\n\\n# Dataclasses make use of type hints\\n@dataclass(frozen=True)\\nclass InventoryItem:\\n    \"\"\"Class for an inventory item in a showroom.\"\"\"\\n\\n    vehicle_type: str\\n    model: str\\n    unit_price: float\\n    stock: int = 0\\n\\n    def total_model_cost(self) -> float:\\n        \"\"\"Calculate total cost of model in stock.\"\"\"\\n\\n        return self.unit_price * self.stock\\n\\n\\nif __name__ == \"__main__\":\\n    inventory_item = InventoryItem(\"car\", \"land_rover\", 1000, 2)\\n    print(inventory_item.total_model_cost())\\n'),\n",
       " Document(metadata={'source': 'test/python-type-hinting-main/examples/e_future_annotations.py', 'language': <Language.PYTHON: 'python'>}, page_content='# from __future__ import annotations\\n\\n\\n# We need to uncomment from __future__ import annotations at the top of\\n# the file for this to evaluate without raising a NameError.\\nclass A:\\n    def f(self) -> A:\\n        return self\\n'),\n",
       " Document(metadata={'source': 'test/python-type-hinting-main/examples/f_circular_imports.py', 'language': <Language.PYTHON: 'python'>}, page_content='# Problem: You have a circular import issue.\\n# Solution: Import classes that are executed here.\\nimport math\\nimport typing\\n\\n# Solution: Import classes used only for annotations when\\n# typing.TYPE_CHECKING is True (i.e. not at runtime).\\nif typing.TYPE_CHECKING:\\n    from b_classes import Showroom\\n\\nif __name__ == \"__main__\":\\n    example_number = math.cos(1)\\n    showroom = Showroom()\\n'),\n",
       " Document(metadata={'source': 'test/python-type-hinting-main/examples/d_typeddicts.py', 'language': <Language.PYTHON: 'python'>}, page_content='from dataclasses import dataclass\\nfrom typing import TypedDict\\n\\n\\n# TypedDicts declares a dictionary type that expects all of its instances to have a\\n# certain set of keys. Each key is associated with a value of a consistent type.\\n# We can use these for type hints, especially when returning more complex data structures.\\nclass EngineAttributes(TypedDict):\\n    engine_type: str\\n    engine_size: str\\n    cylinders: float\\n    turbo: bool\\n    engine_location: str\\n\\n\\n@dataclass\\nclass Car:\\n    \"\"\"Class for a particular car item in inventory.\"\"\"\\n\\n    model: str\\n    year: int\\n    trim_package: str\\n    mass: float\\n    engine_type: str\\n    engine_size: str\\n    engine_location: str\\n    cylinders: int\\n    turbo: bool\\n    unit_price: float\\n    colour: str\\n    wheels: int\\n    seats: int\\n\\n    def get_engine_attributes(self) -> EngineAttributes:\\n        \"\"\"Return a dictionary of engine attributes.\"\"\"\\n\\n        return {\\n            \"engine_type\": self.engine_type,\\n            \"engine_size\": self.engine_size,\\n            \"cylinders\": self.cylinders,\\n            \"turbo\": self.turbo,\\n            \"engine_location\": self.engine_location,\\n        }\\n\\n\\nif __name__ == \"__main__\":\\n    car_data = {\\n        \"model\": \"audi\",\\n        \"year\": 2023,\\n        \"trim_package\": \"RS\",\\n        \"mass\": 1100.1,\\n        \"engine_type\": \"Petrol\",\\n        \"engine_size\": \"3L\",\\n        \"engine_location\": \"Rear\",\\n        \"cylinders\": 8,\\n        \"turbo\": True,\\n        \"unit_price\": 40003,\\n        \"colour\": \"black\",\\n        \"wheels\": 4,\\n        \"seats\": 4,\\n    }\\n\\n    data_values = list(car_data.values())\\n\\n    car = Car(*data_values)\\n    car.get_engine_attributes()\\n'),\n",
       " Document(metadata={'source': 'test/python-type-hinting-main/examples/b_classes.py', 'language': <Language.PYTHON: 'python'>}, page_content='from typing import dict\\n\\n\\n# Lets create a class for our showroom\\nclass Showroom:\\n    \"\"\"\\n    Class for our car inventory.\\n    \"\"\"\\n\\n    def __init__(self):\\n        \"\"\"\\n        Constructor for Showroom class.\\n\\n        Attributes:\\n            inventory: dictionary containing inventory\\n            total_stock_value: total stock value in GBP\\n            price_list: dictionary of currently advised model sale prices in GBP\\n            is_open: boolean flag indicating whether showroom is open, defaults to False\\n        \"\"\"\\n\\n        self.inventory: dict[str, float] = {}\\n        self.total_stock_value: float = 0\\n        self.price_list: dict[str, float] | None = None\\n        self.is_open: bool = False\\n\\n    def bulk_add_inventory(self, car_models: List[str], model_counts: List[int]):\\n        \"\"\"\\n        Bulk add multiple inventory items based on lists of car_models and model_counts.\\n        Note that car_models and model_counts must be the same length.\\n\\n        Args:\\n            car_models: list of car models\\n            model_counts: list of model counts\\n        \"\"\"\\n\\n        if len(car_models) != len(model_counts):\\n            raise ValueError(\"car_models and model_counts must be the same length.\")\\n\\n        self.inventory = dict(\\n            zip(car_models, model_counts)\\n        )  #! RESOLVED using Optional[dict[str, float]] (TOP-30) but it should dict[str, int]\\n        print(self.inventory)\\n\\n    def obtain_price_list(self, price_list: dict[str, float]):\\n        \"\"\"\\n        Obtain price list from head office.\\n\\n        Args:\\n            price_list: dictionary of prices by model in GBP\\n        \"\"\"\\n\\n        self.price_list = price_list\\n\\n    def calculate_stock_value(self) -> float:\\n        \"\"\"\\n        Calculate the stock value given the price list on file and return the value.\\n\\n        Returns:\\n            total_stock_value: total value of stock given a price list\\n        \"\"\"\\n\\n        if self.price_list is None:\\n            raise ValueError(\\n                \"Price list must be obtained from head office before calculating stock value.\"\\n            )\\n\\n        average_car_price = sum(self.price_list.values()) / len(self.price_list)\\n\\n        total_stock_value = 0\\n        for model_name, stock_count in self.inventory.items():\\n            if model_name in self.price_list:  #! RESOLVED (TOP-50)\\n                average_model_price = self.price_list[model_name]\\n                total_stock_value += stock_count * average_model_price\\n\\n            else:\\n                total_stock_value += stock_count * average_car_price\\n\\n        self.total_stock_value = round(total_stock_value, 2)\\n\\n        print(f\"Total stock value: £{self.total_stock_value}\")\\n\\n        return self.total_stock_value\\n\\n\\ndef open_showrooms(showroom_list: list[Showroom]):\\n    \"\"\"\\n    Open a number of showrooms.\\n\\n    Args:\\n        showroom_list: list of showrooms to open\\n    \"\"\"\\n\\n    for showroom in showroom_list:\\n        showroom.is_open = True\\n\\n    print(\"All showrooms are now open!\")\\n\\n\\nif __name__ == \"__main__\":\\n    # Create showroom\\n    showroom = Showroom()\\n\\n    # Create inventory items and add to inventory\\n    car_models: list[str] = [\"bmw\", \"mercedes\", \"ferrari\"]\\n    car_counts: list[int] = [1, 2, 54]\\n    showroom.bulk_add_inventory(car_models, car_counts)\\n\\n    # Obtain price list and calculate stock value\\n    total_stock_value = showroom.calculate_stock_value()\\n    price_list: dict[str, float] = {\\n        \"citroen\": 2043.54,\\n        \"audi\": 5673.5,\\n        \"kia\": 3265.78,\\n    }\\n    showroom.obtain_price_list(price_list)\\n    total_stock_value = showroom.calculate_stock_value()\\n\\n    # Create a list of showrooms (1 for now) and open them\\n    showroom_list = [showroom]\\n    open_showrooms(showroom_list)\\n')]"
      ]
     },
     "execution_count": 8,
     "metadata": {},
     "output_type": "execute_result"
    }
   ],
   "source": [
    "documents"
   ]
  },
  {
   "cell_type": "code",
   "execution_count": 9,
   "metadata": {},
   "outputs": [
    {
     "data": {
      "text/plain": [
       "1777"
      ]
     },
     "execution_count": 9,
     "metadata": {},
     "output_type": "execute_result"
    }
   ],
   "source": [
    "len(documents[0].page_content)"
   ]
  },
  {
   "cell_type": "code",
   "execution_count": 10,
   "metadata": {},
   "outputs": [
    {
     "data": {
      "text/plain": [
       "Document(metadata={'source': 'test/python-type-hinting-main/test.py', 'language': <Language.PYTHON: 'python'>}, page_content='from dataclasses import dataclass\\nfrom typing import TypedDict\\n\\n\\n# Define a TypedDict to explicitly type the car_data dictionary\\nclass CarData(TypedDict):\\n    model: str\\n    year: int\\n    trim_package: str\\n    mass: float\\n    engine_type: str\\n    engine_size: str\\n    engine_location: str\\n    cylinders: int\\n    turbo: bool\\n    unit_price: float\\n    colour: str\\n    wheels: int\\n    seats: int\\n\\n\\nclass EngineAttributes(TypedDict):\\n    engine_type: str\\n    engine_size: str\\n    cylinders: float\\n    turbo: bool\\n    engine_location: str\\n\\n\\n@dataclass\\nclass Car:\\n    \"\"\"Class for a particular car item in inventory.\"\"\"\\n\\n    model: str\\n    year: int\\n    trim_package: str\\n    mass: float\\n    engine_type: str\\n    engine_size: str\\n    engine_location: str\\n    cylinders: int\\n    turbo: bool\\n    unit_price: float\\n    colour: str\\n    wheels: int\\n    seats: int\\n\\n    def get_engine_attributes(self) -> EngineAttributes:\\n        \"\"\"Return a dictionary of engine attributes.\"\"\"\\n\\n        return {\\n            \"engine_type\": self.engine_type,\\n            \"engine_size\": self.engine_size,\\n            \"cylinders\": self.cylinders,\\n            \"turbo\": self.turbo,\\n            \"engine_location\": self.engine_location,\\n        }\\n\\n\\nif __name__ == \"__main__\":\\n    # Now use the typed dictionary CarData for car_data\\n    car_data: CarData = {\\n        \"model\": \"audi\",\\n        \"year\": 2023,\\n        \"trim_package\": \"RS\",\\n        \"mass\": 1100.1,\\n        \"engine_type\": \"Petrol\",\\n        \"engine_size\": \"3L\",\\n        \"engine_location\": \"Rear\",\\n        \"cylinders\": 8,\\n        \"turbo\": True,\\n        \"unit_price\": 40003.0,\\n        \"colour\": \"black\",\\n        \"wheels\": 4,\\n        \"seats\": 4,\\n    }\\n\\n    data_values = list(car_data.values())\\n\\n    car = Car(*data_values)\\n    car.get_engine_attributes()\\n')"
      ]
     },
     "execution_count": 10,
     "metadata": {},
     "output_type": "execute_result"
    }
   ],
   "source": [
    "documents[0]"
   ]
  },
  {
   "cell_type": "code",
   "execution_count": 11,
   "metadata": {},
   "outputs": [],
   "source": [
    "documents_splitter = RecursiveCharacterTextSplitter.from_language(language = Language.PYTHON,\n",
    "                                                             chunk_size = 500,\n",
    "                                                             chunk_overlap = 20)"
   ]
  },
  {
   "cell_type": "code",
   "execution_count": 12,
   "metadata": {},
   "outputs": [],
   "source": [
    "texts = documents_splitter.split_documents(documents)"
   ]
  },
  {
   "cell_type": "code",
   "execution_count": 13,
   "metadata": {},
   "outputs": [
    {
     "data": {
      "text/plain": [
       "392"
      ]
     },
     "execution_count": 13,
     "metadata": {},
     "output_type": "execute_result"
    }
   ],
   "source": [
    "len(texts[0].page_content)"
   ]
  },
  {
   "cell_type": "code",
   "execution_count": 14,
   "metadata": {},
   "outputs": [
    {
     "data": {
      "text/plain": [
       "33"
      ]
     },
     "execution_count": 14,
     "metadata": {},
     "output_type": "execute_result"
    }
   ],
   "source": [
    "len(texts)"
   ]
  },
  {
   "cell_type": "code",
   "execution_count": 15,
   "metadata": {},
   "outputs": [],
   "source": [
    "from dotenv import load_dotenv\n",
    "load_dotenv() \n",
    "\n",
    "# Embedding models: https://python.langchain.com/v0.1/docs/integrations/text_embedding/\n",
    "GOOGLE_API_KEY = os.getenv(\"GEMINI_API_KEY\")"
   ]
  },
  {
   "cell_type": "code",
   "execution_count": 16,
   "metadata": {},
   "outputs": [],
   "source": [
    "os.environ[\"GEMINI_API_KEY\"] = GOOGLE_API_KEY"
   ]
  },
  {
   "cell_type": "code",
   "execution_count": 17,
   "metadata": {},
   "outputs": [
    {
     "name": "stderr",
     "output_type": "stream",
     "text": [
      "/home/fahad/miniconda3/envs/ptenv/lib/python3.11/site-packages/tqdm/auto.py:21: TqdmWarning: IProgress not found. Please update jupyter and ipywidgets. See https://ipywidgets.readthedocs.io/en/stable/user_install.html\n",
      "  from .autonotebook import tqdm as notebook_tqdm\n"
     ]
    }
   ],
   "source": [
    "from langchain_google_genai import GoogleGenerativeAIEmbeddings\n",
    "\n",
    "# embeddings=OpenAIEmbeddings(disallowed_special=())\n",
    "embeddings = GoogleGenerativeAIEmbeddings(model=\"models/embedding-001\", google_api_key=GOOGLE_API_KEY)"
   ]
  },
  {
   "cell_type": "code",
   "execution_count": 18,
   "metadata": {},
   "outputs": [],
   "source": [
    "from langchain_chroma import Chroma\n",
    "\n",
    "vectordb = Chroma.from_documents(texts, embedding=embeddings, persist_directory='./db')"
   ]
  },
  {
   "cell_type": "code",
   "execution_count": 19,
   "metadata": {},
   "outputs": [],
   "source": [
    "# vectordb.persist()"
   ]
  },
  {
   "cell_type": "code",
   "execution_count": 20,
   "metadata": {},
   "outputs": [],
   "source": [
    "from langchain_google_genai import ChatGoogleGenerativeAI\n",
    "\n",
    "# llm = ChatOpenAI(model_name=\"gpt-4\")\n",
    "# llm = ChatOpenAI()\n",
    "llm = ChatGoogleGenerativeAI(model=\"gemini-1.5-pro\",temperature=0.5, max_tokens=4018, google_api_key=GOOGLE_API_KEY)"
   ]
  },
  {
   "cell_type": "code",
   "execution_count": 21,
   "metadata": {},
   "outputs": [],
   "source": [
    "memory = ConversationSummaryMemory(llm=llm, memory_key = \"chat_history\", return_messages=True)"
   ]
  },
  {
   "cell_type": "code",
   "execution_count": 22,
   "metadata": {},
   "outputs": [],
   "source": [
    "qa = ConversationalRetrievalChain.from_llm(llm, retriever=vectordb.as_retriever(search_type=\"mmr\", search_kwargs={\"k\":8}), memory=memory)"
   ]
  },
  {
   "cell_type": "code",
   "execution_count": 23,
   "metadata": {},
   "outputs": [],
   "source": [
    "question = ''' \n",
    "The following object contains type related issue.\n",
    "{rule_id: 'Undefined or invalid type [11]', message: 'Annotation `dict` is not defined as a type.', warning_line: 'def obtain_price_list(self, price_list: dict[str, float]):', source_code: 'No function definition found'}\n",
    "\n",
    "You should reply as the following format only. Don't engage in conversation and add any extra explanation.\n",
    "1. Cause\n",
    "2. Solution in Code\n",
    "3. Explain solution in bullet point\n",
    "'''"
   ]
  },
  {
   "cell_type": "code",
   "execution_count": 24,
   "metadata": {},
   "outputs": [
    {
     "name": "stderr",
     "output_type": "stream",
     "text": [
      "/tmp/ipykernel_17363/79176006.py:1: LangChainDeprecationWarning: The method `Chain.__call__` was deprecated in langchain 0.1.0 and will be removed in 1.0. Use invoke instead.\n",
      "  result = qa(question)\n"
     ]
    },
    {
     "name": "stdout",
     "output_type": "stream",
     "text": [
      "1. **Cause:** The `dict` type annotation needs to be imported from the `typing` module when used in this way.  Before Python 3.9, using `dict[str, float]` directly was not valid syntax.\n",
      "\n",
      "2. **Solution in Code:**\n",
      "\n",
      "```python\n",
      "from typing import dict\n",
      "\n",
      "def obtain_price_list(self, price_list: dict[str, float]):\n",
      "    # ... function body ...\n",
      "```\n",
      "\n",
      "3. **Explanation:**\n",
      "\n",
      "*   The `from typing import dict` line imports the `dict` type hint. This allows you to use `dict[str, float]` to specify a dictionary where keys are strings and values are floats.\n",
      "*   This import is required for type hinting to work correctly, especially in earlier Python versions (before 3.9).  In Python 3.9 and later, the built-in `dict` can be used for type hints without importing from `typing`.\n",
      "\n"
     ]
    }
   ],
   "source": [
    "result = qa(question)\n",
    "print(result['answer'])"
   ]
  },
  {
   "cell_type": "code",
   "execution_count": 25,
   "metadata": {},
   "outputs": [
    {
     "name": "stdout",
     "output_type": "stream",
     "text": [
      "Let's break down Python's type hinting and specifically `dict[str, float]` in function signatures.\n",
      "\n",
      "**Python Type Hinting**\n",
      "\n",
      "Type hinting in Python is a way to add static type information to your code.  It's important to understand that Python remains *dynamically typed*.  Type hints are primarily used for:\n",
      "\n",
      "1. **Readability:** They make code easier to understand by explicitly stating the expected types of variables, function arguments, and return values.\n",
      "\n",
      "2. **Static Analysis:** Tools like `mypy` can use type hints to catch type errors *before* runtime, improving code reliability.  Your IDE can also leverage type hints for better code completion and error detection.\n",
      "\n",
      "3. **Documentation:** Type hints serve as documentation, clarifying the intended use of functions and variables.\n",
      "\n",
      "**`dict[str, float]` in Function Signatures**\n",
      "\n",
      "The annotation `dict[str, float]` specifies that a function argument or return value should be a dictionary where:\n",
      "\n",
      "* Keys are strings (`str`).\n",
      "* Values are floating-point numbers (`float`).\n",
      "\n",
      "**Example:**\n",
      "\n",
      "```python\n",
      "def calculate_averages(data: dict[str, float]) -> float:\n",
      "    \"\"\"Calculates the average of the values in the input dictionary.\"\"\"\n",
      "    if not data:\n",
      "        return 0.0  # Handle empty dictionary case\n",
      "    return sum(data.values()) / len(data)\n",
      "\n",
      "\n",
      "prices: dict[str, float] = {\"apple\": 1.5, \"banana\": 0.75, \"orange\": 1.0}\n",
      "average_price: float = calculate_averages(prices)\n",
      "print(average_price)  # Output: 1.0833333333333333\n",
      "```\n",
      "\n",
      "In this example:\n",
      "\n",
      "* `data: dict[str, float]` indicates that the `data` argument should be a dictionary mapping strings to floats.\n",
      "* `-> float` indicates that the function returns a float.\n",
      "\n",
      "**Comparison with Other Languages**\n",
      "\n",
      "Here's how Python's type hinting relates to similar concepts in other languages:\n",
      "\n",
      "* **Java:**  Python's `dict[str, float]` is analogous to `Map<String, Double>` in Java.  Java has stronger static typing, so the compiler enforces these types.\n",
      "\n",
      "* **C++:**  A similar concept in C++ would be `std::map<std::string, double>`. C++ also has strong static typing.\n",
      "\n",
      "* **JavaScript (TypeScript):**  In TypeScript (a typed superset of JavaScript), you would use an interface or type alias:  `interface Data { [key: string]: number; }` or `type Data = { [key: string]: number; }`.  TypeScript's type system is closer to Python's in that it's primarily used for static analysis and documentation, but doesn't necessarily prevent runtime errors in all cases.\n",
      "\n",
      "\n",
      "Key Difference: Remember that while these concepts are similar, Python's type hints don't change its fundamental dynamic nature.  If you pass the wrong type to a function, the code will still run (unless the type error causes a runtime exception), but type checkers like `mypy` will flag the issue.  In statically typed languages like Java and C++, the compiler would prevent such code from compiling in the first place.\n",
      "\n"
     ]
    }
   ],
   "source": [
    "question = \"As newbie from other programming background don't have a clear understing of python types. So explain the previous types with example from different coding language so that they can be familiar with python type hints\"\n",
    "result = qa(question)\n",
    "print(result['answer'])"
   ]
  },
  {
   "cell_type": "code",
   "execution_count": null,
   "metadata": {},
   "outputs": [],
   "source": [
    "question = '''\n",
    "This is an object containing pyre error message and a warning line\n",
    "{rule_id: 'Undefined or invalid type [11]', message: 'Annotation `dict` is not defined as a type.', warning_line: 'def obtain_price_list(self, price_list: dict[str, float]):', source_code: Null}\n",
    "To get the full solution we need the source code as well.\n",
    "\n",
    "Extract the complete source code and print it\n",
    "'''\n",
    "result = qa(question)\n",
    "print(result['answer'])"
   ]
  },
  {
   "cell_type": "code",
   "execution_count": null,
   "metadata": {},
   "outputs": [],
   "source": []
  }
 ],
 "metadata": {
  "kernelspec": {
   "display_name": "ptenv",
   "language": "python",
   "name": "python3"
  },
  "language_info": {
   "codemirror_mode": {
    "name": "ipython",
    "version": 3
   },
   "file_extension": ".py",
   "mimetype": "text/x-python",
   "name": "python",
   "nbconvert_exporter": "python",
   "pygments_lexer": "ipython3",
   "version": "3.11.9"
  }
 },
 "nbformat": 4,
 "nbformat_minor": 2
}
